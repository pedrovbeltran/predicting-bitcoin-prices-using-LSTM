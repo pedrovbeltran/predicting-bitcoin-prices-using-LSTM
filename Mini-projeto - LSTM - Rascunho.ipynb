{
 "cells": [
  {
   "cell_type": "markdown",
   "metadata": {},
   "source": [
    "# Mini-projeto - LSTM\n",
    "\n",
    "## Predição da cotação do bitcoin de dezembro de 2014 até maio de 2018\n",
    "\n",
    "Para este mini-projeto será usada uma rede neural de arquitetura LSTM para predição da cotação do bitcoin segundo o roteiro proposto no artigo [An Intro Tutorial for Implementing Long Short-Term Memory Networks (LSTM)](https://heartbeat.fritz.ai/a-beginners-guide-to-implementing-long-short-term-memory-networks-lstm-eb7a2ff09a27) escrito por *Brian Mwangi*."
   ]
  },
  {
   "cell_type": "markdown",
   "metadata": {},
   "source": [
    "Seguindo o roteiro, temos que, omitindo as partes já disponíveis no diário e colocando funções em arquivos separados:"
   ]
  },
  {
   "cell_type": "code",
   "execution_count": 1,
   "metadata": {},
   "outputs": [
    {
     "name": "stdout",
     "output_type": "stream",
     "text": [
      "WARNING:tensorflow:From /home/pedro/miniconda3/lib/python3.7/site-packages/tensorflow/python/framework/op_def_library.py:263: colocate_with (from tensorflow.python.framework.ops) is deprecated and will be removed in a future version.\n",
      "Instructions for updating:\n",
      "Colocations handled automatically by placer.\n",
      "WARNING:tensorflow:From /home/pedro/miniconda3/lib/python3.7/site-packages/tensorflow/python/ops/losses/losses_impl.py:667: to_float (from tensorflow.python.ops.math_ops) is deprecated and will be removed in a future version.\n",
      "Instructions for updating:\n",
      "Use tf.cast instead.\n",
      "Epoch 1/200  Current loss: 0.3031804859638214\n",
      "Epoch 40/200  Current loss: 0.02926466427743435\n",
      "Epoch 80/200  Current loss: 0.007358625065535307\n",
      "Epoch 120/200  Current loss: 0.006909708492457867\n",
      "Epoch 160/200  Current loss: 0.006935968063771725\n",
      "Epoch 200/200  Current loss: 0.005455509293824434\n"
     ]
    }
   ],
   "source": [
    "#importing the libraries\n",
    "import pandas as pd\n",
    "from sklearn.preprocessing import StandardScaler\n",
    "\n",
    "#loading the dataset\n",
    "#from google.colab import files\n",
    "#uploaded = files.upload()\n",
    "btc = pd.read_csv('btc.csv')\n",
    "data_to_use=btc['Close'].values\n",
    "\n",
    "#data preprocessing(scaling)\n",
    "from sklearn.preprocessing import StandardScaler\n",
    "scaler = StandardScaler()\n",
    "scaled_data = scaler.fit_transform(data_to_use.reshape(-1, 1))\n",
    "\n",
    "import LSTM\n",
    "\n",
    "net = LSTM.LSTM_Net(256) # Creating a LSTM NN with 256 units in the hidden layer\n",
    "net.run_net(7, 7, 4, 0.001, 200, 40, scaled_data)"
   ]
  },
  {
   "cell_type": "code",
   "execution_count": 1,
   "metadata": {},
   "outputs": [
    {
     "name": "stdout",
     "output_type": "stream",
     "text": [
      "WARNING:tensorflow:From /home/pedro/miniconda3/lib/python3.7/site-packages/tensorflow/python/framework/op_def_library.py:263: colocate_with (from tensorflow.python.framework.ops) is deprecated and will be removed in a future version.\n",
      "Instructions for updating:\n",
      "Colocations handled automatically by placer.\n",
      "WARNING:tensorflow:From /home/pedro/miniconda3/lib/python3.7/site-packages/tensorflow/python/ops/losses/losses_impl.py:667: to_float (from tensorflow.python.ops.math_ops) is deprecated and will be removed in a future version.\n",
      "Instructions for updating:\n",
      "Use tf.cast instead.\n",
      "Epoch 1/200  Current loss: 0.19672611355781555\n",
      "Epoch 40/200  Current loss: 0.09145958721637726\n",
      "Epoch 80/200  Current loss: 0.06991038471460342\n",
      "Epoch 120/200  Current loss: 0.03002689965069294\n",
      "Epoch 160/200  Current loss: 0.009275009855628014\n",
      "Epoch 200/200  Current loss: 0.01211994607001543\n"
     ]
    }
   ],
   "source": [
    "#importing the libraries\n",
    "import pandas as pd\n",
    "from sklearn.preprocessing import StandardScaler\n",
    "\n",
    "#loading the dataset\n",
    "#from google.colab import files\n",
    "#uploaded = files.upload()\n",
    "btc = pd.read_csv('btc.csv')\n",
    "data_to_use=btc['Close'].values\n",
    "\n",
    "#data preprocessing(scaling)\n",
    "from sklearn.preprocessing import StandardScaler\n",
    "scaler = StandardScaler()\n",
    "scaled_data = scaler.fit_transform(data_to_use.reshape(-1, 1))\n",
    "\n",
    "import LSTM\n",
    "\n",
    "net = LSTM.LSTM_Net(256) # Creating a LSTM NN with 256 units in the hidden layer\n",
    "net.run_net(7, 10, 4, 0.001, 200, 40, scaled_data) # window size increased "
   ]
  },
  {
   "cell_type": "code",
   "execution_count": null,
   "metadata": {},
   "outputs": [],
   "source": []
  }
 ],
 "metadata": {
  "kernelspec": {
   "display_name": "Python 3",
   "language": "python",
   "name": "python3"
  },
  "language_info": {
   "codemirror_mode": {
    "name": "ipython",
    "version": 3
   },
   "file_extension": ".py",
   "mimetype": "text/x-python",
   "name": "python",
   "nbconvert_exporter": "python",
   "pygments_lexer": "ipython3",
   "version": "3.7.2"
  }
 },
 "nbformat": 4,
 "nbformat_minor": 2
}
