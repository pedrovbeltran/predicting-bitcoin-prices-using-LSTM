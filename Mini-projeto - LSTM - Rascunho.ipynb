{
 "cells": [
  {
   "cell_type": "markdown",
   "metadata": {},
   "source": [
    "# Mini-projeto - LSTM\n",
    "\n",
    "## Predição da cotação do bitcoin de dezembro de 2014 até maio de 2018\n",
    "\n",
    "Para este mini-projeto será usada uma rede neural de arquitetura LSTM para predição da cotação do bitcoin segundo o roteiro proposto no artigo [An Intro Tutorial for Implementing Long Short-Term Memory Networks (LSTM)](https://heartbeat.fritz.ai/a-beginners-guide-to-implementing-long-short-term-memory-networks-lstm-eb7a2ff09a27) escrito por *Brian Mwangi*."
   ]
  },
  {
   "cell_type": "code",
   "execution_count": null,
   "metadata": {},
   "outputs": [],
   "source": []
  }
 ],
 "metadata": {
  "kernelspec": {
   "display_name": "Python 3",
   "language": "python",
   "name": "python3"
  },
  "language_info": {
   "codemirror_mode": {
    "name": "ipython",
    "version": 3
   },
   "file_extension": ".py",
   "mimetype": "text/x-python",
   "name": "python",
   "nbconvert_exporter": "python",
   "pygments_lexer": "ipython3",
   "version": "3.7.2"
  }
 },
 "nbformat": 4,
 "nbformat_minor": 2
}
